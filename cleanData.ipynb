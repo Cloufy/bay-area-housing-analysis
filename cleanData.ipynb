{
 "cells": [
  {
   "cell_type": "code",
   "execution_count": 1,
   "metadata": {
    "collapsed": false
   },
   "outputs": [
    {
     "data": {
      "text/html": [
       "<style>.container { width:90% !important; }</style>"
      ],
      "text/plain": [
       "<IPython.core.display.HTML object>"
      ]
     },
     "metadata": {},
     "output_type": "display_data"
    }
   ],
   "source": [
    "from datetime import datetime, timedelta\n",
    "import itertools\n",
    "from IPython.display import clear_output\n",
    "from IPython.core.display import display, HTML\n",
    "display(HTML(\"<style>.container { width:90% !important; }</style>\"))\n",
    "import time\n",
    "import numpy as np\n",
    "import pandas as pd\n",
    "pd.options.display.max_columns = None\n",
    "pd.options.display.max_rows = None\n",
    "import matplotlib.pyplot as plt\n",
    "%matplotlib inline\n",
    "from collections import Counter, defaultdict\n",
    "import seaborn as sns\n",
    "import re\n",
    "import math\n",
    "from datetime import datetime\n",
    "import copy"
   ]
  },
  {
   "cell_type": "markdown",
   "metadata": {},
   "source": [
    "### functions"
   ]
  },
  {
   "cell_type": "code",
   "execution_count": 2,
   "metadata": {
    "collapsed": true
   },
   "outputs": [],
   "source": [
    "PRICE_CONST = [10000, 4000000]\n",
    "\n",
    "def onlyNumber(inputArr):\n",
    "    outputArr = []\n",
    "    for x in inputArr:\n",
    "        try:\n",
    "            r = re.sub(\"[^0-9.]\", \"\", str(x))\n",
    "        except:\n",
    "            r = np.nan\n",
    "        outputArr.append(r)\n",
    "    return outputArr\n",
    "\n",
    "def convertInt(inputArr, valueConstraint=None):\n",
    "    outputArr = []\n",
    "    for x in inputArr:\n",
    "        try:\n",
    "            r = int(x)\n",
    "            if valueConstraint is not None:\n",
    "                lowerBound = valueConstraint[0]\n",
    "                upperBound = valueConstraint[1]\n",
    "                if r < lowerBound or r > upperBound:\n",
    "                    r = np.nan\n",
    "        except:\n",
    "            r = np.nan\n",
    "        outputArr.append(r)\n",
    "    return outputArr\n",
    "\n",
    "def convertFloat(inputArr, valueConstraint=None):\n",
    "    outputArr = []\n",
    "    for x in inputArr:\n",
    "        try:\n",
    "            r = float(x)\n",
    "            if valueConstraint is not None:\n",
    "                lowerBound = valueConstraint[0]\n",
    "                upperBound = valueConstraint[1]\n",
    "                if r < lowerBound or r > upperBound:\n",
    "                    r = np.nan\n",
    "        except:\n",
    "            r = np.nan\n",
    "        outputArr.append(r)\n",
    "    return outputArr\n",
    "\n",
    "def convertDatetime(inputArr):\n",
    "    outputArr = []\n",
    "    for x in inputArr:\n",
    "        try:\n",
    "            r = datetime.strptime(x, '%m/%d/%y')\n",
    "        except:\n",
    "            r = np.nan\n",
    "        outputArr.append(r)\n",
    "    return outputArr\n",
    "\n",
    "def nanCounter(inputArr):\n",
    "    try:\n",
    "        c = Counter(inputArr[~np.isnan(inputArr)])\n",
    "    except:\n",
    "        c = Counter(inputArr)\n",
    "    return c\n",
    "\n",
    "def nanCounterMostCommon(inputArr):\n",
    "    try:\n",
    "        c = Counter(inputArr[~np.isnan(inputArr)]).most_common()\n",
    "    except:\n",
    "        c = Counter(inputArr).most_common()\n",
    "    return c\n",
    "\n",
    "def nanDistPlot(inputArr):\n",
    "    x = inputArr[~np.isnan(inputArr)]\n",
    "    sns.distplot(x)"
   ]
  },
  {
   "cell_type": "markdown",
   "metadata": {},
   "source": [
    "### load data"
   ]
  },
  {
   "cell_type": "code",
   "execution_count": 3,
   "metadata": {
    "collapsed": false
   },
   "outputs": [
    {
     "name": "stdout",
     "output_type": "stream",
     "text": [
      "(6319, 31)\n",
      "(8402, 31)\n",
      "(34829, 31)\n"
     ]
    },
    {
     "name": "stderr",
     "output_type": "stream",
     "text": [
      "/Users/qiweili/anaconda/lib/python2.7/site-packages/IPython/core/interactiveshell.py:2717: DtypeWarning: Columns (3) have mixed types. Specify dtype option on import or set low_memory=False.\n",
      "  interactivity=interactivity, compiler=compiler, result=result)\n"
     ]
    }
   ],
   "source": [
    "data1 = pd.read_csv(\"./data/raw/Zillow-Fremont_20170716.csv\")\n",
    "data2 = pd.read_csv(\"./data/raw/zillow_1234city_20170811.csv\")\n",
    "data3 = pd.read_csv(\"./data/raw/city5678.csv\")\n",
    "data1.rename(columns={\"bet\":\"bed\"}, inplace=True)\n",
    "print data1.shape\n",
    "print data2.shape\n",
    "print data3.shape"
   ]
  },
  {
   "cell_type": "code",
   "execution_count": 4,
   "metadata": {
    "collapsed": false
   },
   "outputs": [
    {
     "name": "stdout",
     "output_type": "stream",
     "text": [
      "0\n",
      "0\n",
      "0\n"
     ]
    }
   ],
   "source": [
    "# do they have the same column names?\n",
    "print sum(data1.columns != data2.columns)\n",
    "print sum(data1.columns != data3.columns)\n",
    "print sum(data2.columns != data3.columns)"
   ]
  },
  {
   "cell_type": "code",
   "execution_count": 5,
   "metadata": {
    "collapsed": false
   },
   "outputs": [
    {
     "name": "stdout",
     "output_type": "stream",
     "text": [
      "(49550, 31)\n"
     ]
    }
   ],
   "source": [
    "# merge them into one dataframe\n",
    "data = pd.concat([data1, data2, data3])\n",
    "data.reset_index(drop=True, inplace=True)\n",
    "print data.shape"
   ]
  },
  {
   "cell_type": "markdown",
   "metadata": {},
   "source": [
    "### missing data percentages"
   ]
  },
  {
   "cell_type": "code",
   "execution_count": 6,
   "metadata": {
    "collapsed": false
   },
   "outputs": [
    {
     "data": {
      "text/plain": [
       "<matplotlib.axes._subplots.AxesSubplot at 0x103c63f10>"
      ]
     },
     "execution_count": 6,
     "metadata": {},
     "output_type": "execute_result"
    },
    {
     "data": {
      "image/png": "[encoded data removed]",
      "text/plain": [
       "<matplotlib.figure.Figure at 0x112a8e390>"
      ]
     },
     "metadata": {},
     "output_type": "display_data"
    }
   ],
   "source": [
    "plt.figure(figsize=(5,10))\n",
    "sns.barplot(y=data.isnull().sum().index, x=data.isnull().sum().values*1.0/data.shape[0])"
   ]
  },
  {
   "cell_type": "code",
   "execution_count": 7,
   "metadata": {
    "collapsed": false
   },
   "outputs": [
    {
     "name": "stdout",
     "output_type": "stream",
     "text": [
      "(49550, 22)\n"
     ]
    },
    {
     "data": {
      "text/html": [
       "<div>\n",
       "<style>\n",
       "    .dataframe thead tr:only-child th {\n",
       "        text-align: right;\n",
       "    }\n",
       "\n",
       "    .dataframe thead th {\n",
       "        text-align: left;\n",
       "    }\n",
       "\n",
       "    .dataframe tbody tr th {\n",
       "        vertical-align: top;\n",
       "    }\n",
       "</style>\n",
       "<table border=\"1\" class=\"dataframe\">\n",
       "  <thead>\n",
       "    <tr style=\"text-align: right;\">\n",
       "      <th></th>\n",
       "      <th>city</th>\n",
       "      <th>zipcode</th>\n",
       "      <th>area</th>\n",
       "      <th>bed</th>\n",
       "      <th>bath</th>\n",
       "      <th>sqft</th>\n",
       "      <th>price</th>\n",
       "      <th>Zestimate</th>\n",
       "      <th>type</th>\n",
       "      <th>built</th>\n",
       "      <th>Parking</th>\n",
       "      <th>Lastremodel</th>\n",
       "      <th>year1</th>\n",
       "      <th>price1</th>\n",
       "      <th>year2</th>\n",
       "      <th>price2</th>\n",
       "      <th>year3</th>\n",
       "      <th>price3</th>\n",
       "      <th>year4</th>\n",
       "      <th>price4</th>\n",
       "      <th>year5</th>\n",
       "      <th>price5</th>\n",
       "    </tr>\n",
       "  </thead>\n",
       "  <tbody>\n",
       "    <tr>\n",
       "      <th>0</th>\n",
       "      <td>Fremont</td>\n",
       "      <td>94555</td>\n",
       "      <td>Northgate</td>\n",
       "      <td>4</td>\n",
       "      <td>1</td>\n",
       "      <td>1400</td>\n",
       "      <td>140000.0</td>\n",
       "      <td>986436</td>\n",
       "      <td>Single Family</td>\n",
       "      <td>1970</td>\n",
       "      <td>Garage - Attached</td>\n",
       "      <td>1970.0</td>\n",
       "      <td>06/01/99</td>\n",
       "      <td>292000</td>\n",
       "      <td>38400</td>\n",
       "      <td>140000</td>\n",
       "      <td>NaN</td>\n",
       "      <td>NaN</td>\n",
       "      <td>NaN</td>\n",
       "      <td>NaN</td>\n",
       "      <td>NaN</td>\n",
       "      <td>NaN</td>\n",
       "    </tr>\n",
       "    <tr>\n",
       "      <th>1</th>\n",
       "      <td>Fremont</td>\n",
       "      <td>94538</td>\n",
       "      <td>Downtown</td>\n",
       "      <td>2</td>\n",
       "      <td>2</td>\n",
       "      <td>1042</td>\n",
       "      <td>160000.0</td>\n",
       "      <td>535006</td>\n",
       "      <td>Condo</td>\n",
       "      <td>1972</td>\n",
       "      <td>No Data</td>\n",
       "      <td>1972.0</td>\n",
       "      <td>37570</td>\n",
       "      <td>225000</td>\n",
       "      <td>04/28/17</td>\n",
       "      <td>160000</td>\n",
       "      <td>NaN</td>\n",
       "      <td>NaN</td>\n",
       "      <td>NaN</td>\n",
       "      <td>NaN</td>\n",
       "      <td>NaN</td>\n",
       "      <td>NaN</td>\n",
       "    </tr>\n",
       "    <tr>\n",
       "      <th>2</th>\n",
       "      <td>Fremont</td>\n",
       "      <td>94539</td>\n",
       "      <td>Mission Valley</td>\n",
       "      <td>3</td>\n",
       "      <td>2</td>\n",
       "      <td>1434</td>\n",
       "      <td>130000.0</td>\n",
       "      <td>1.32095e+06</td>\n",
       "      <td>Single Family</td>\n",
       "      <td>1961</td>\n",
       "      <td>Garage - Attached</td>\n",
       "      <td>1962.0</td>\n",
       "      <td>04/25/17</td>\n",
       "      <td>130000</td>\n",
       "      <td>NaN</td>\n",
       "      <td>NaN</td>\n",
       "      <td>NaN</td>\n",
       "      <td>NaN</td>\n",
       "      <td>NaN</td>\n",
       "      <td>NaN</td>\n",
       "      <td>NaN</td>\n",
       "      <td>NaN</td>\n",
       "    </tr>\n",
       "    <tr>\n",
       "      <th>3</th>\n",
       "      <td>Fremont</td>\n",
       "      <td>94538</td>\n",
       "      <td>Sundale</td>\n",
       "      <td>3</td>\n",
       "      <td>1</td>\n",
       "      <td>948</td>\n",
       "      <td>141500.0</td>\n",
       "      <td>668271</td>\n",
       "      <td>Single Family</td>\n",
       "      <td>1959</td>\n",
       "      <td>Garage - Attached</td>\n",
       "      <td>1961.0</td>\n",
       "      <td>06/26/00</td>\n",
       "      <td>329000</td>\n",
       "      <td>04/21/17</td>\n",
       "      <td>141500</td>\n",
       "      <td>NaN</td>\n",
       "      <td>NaN</td>\n",
       "      <td>NaN</td>\n",
       "      <td>NaN</td>\n",
       "      <td>NaN</td>\n",
       "      <td>NaN</td>\n",
       "    </tr>\n",
       "    <tr>\n",
       "      <th>4</th>\n",
       "      <td>Fremont</td>\n",
       "      <td>94538</td>\n",
       "      <td>Blacow</td>\n",
       "      <td>2</td>\n",
       "      <td>2.5</td>\n",
       "      <td>1157</td>\n",
       "      <td>60000.0</td>\n",
       "      <td>710981</td>\n",
       "      <td>Condo</td>\n",
       "      <td>1994</td>\n",
       "      <td>1 space</td>\n",
       "      <td>1994.0</td>\n",
       "      <td>02/17/95</td>\n",
       "      <td>173000</td>\n",
       "      <td>02/29/00</td>\n",
       "      <td>244500</td>\n",
       "      <td>07/21/15</td>\n",
       "      <td>605000</td>\n",
       "      <td>03/31/17</td>\n",
       "      <td>60000</td>\n",
       "      <td>NaN</td>\n",
       "      <td>NaN</td>\n",
       "    </tr>\n",
       "  </tbody>\n",
       "</table>\n",
       "</div>"
      ],
      "text/plain": [
       "      city zipcode            area bed bath  sqft     price    Zestimate  \\\n",
       "0  Fremont   94555       Northgate   4    1  1400  140000.0       986436   \n",
       "1  Fremont   94538        Downtown   2    2  1042  160000.0       535006   \n",
       "2  Fremont   94539  Mission Valley   3    2  1434  130000.0  1.32095e+06   \n",
       "3  Fremont   94538         Sundale   3    1   948  141500.0       668271   \n",
       "4  Fremont   94538          Blacow   2  2.5  1157   60000.0       710981   \n",
       "\n",
       "            type built            Parking  Lastremodel     year1  price1  \\\n",
       "0  Single Family  1970  Garage - Attached       1970.0  06/01/99  292000   \n",
       "1          Condo  1972            No Data       1972.0     37570  225000   \n",
       "2  Single Family  1961  Garage - Attached       1962.0  04/25/17  130000   \n",
       "3  Single Family  1959  Garage - Attached       1961.0  06/26/00  329000   \n",
       "4          Condo  1994            1 space       1994.0  02/17/95  173000   \n",
       "\n",
       "      year2  price2     year3  price3     year4 price4 year5 price5  \n",
       "0     38400  140000       NaN     NaN       NaN    NaN   NaN    NaN  \n",
       "1  04/28/17  160000       NaN     NaN       NaN    NaN   NaN    NaN  \n",
       "2       NaN     NaN       NaN     NaN       NaN    NaN   NaN    NaN  \n",
       "3  04/21/17  141500       NaN     NaN       NaN    NaN   NaN    NaN  \n",
       "4  02/29/00  244500  07/21/15  605000  03/31/17  60000   NaN    NaN  "
      ]
     },
     "execution_count": 7,
     "metadata": {},
     "output_type": "execute_result"
    }
   ],
   "source": [
    "useful_columns = [\"city\",\"zipcode\",\"area\",\"bed\",\"bath\",\"sqft\",\"price\",\"Zestimate\",\"type\",\"built\",\"Parking\",\"Lastremodel\",\"year1\",\"price1\",\"year2\",\"price2\",\"year3\",\"price3\",\"year4\",\"price4\",\"year5\",\"price5\"]\n",
    "data = data.loc[:, useful_columns]\n",
    "print data.shape\n",
    "data.head()"
   ]
  },
  {
   "cell_type": "markdown",
   "metadata": {},
   "source": [
    "### city"
   ]
  },
  {
   "cell_type": "code",
   "execution_count": 8,
   "metadata": {
    "collapsed": false
   },
   "outputs": [
    {
     "data": {
      "text/plain": [
       "[('San Jose', 26850),\n",
       " ('Fremont', 6317),\n",
       " ('Sunnyvale', 3312),\n",
       " ('Santa Clara', 2987),\n",
       " ('San Mateo', 2916),\n",
       " ('Redwood City', 2027),\n",
       " ('Mountain View', 1964),\n",
       " ('Union City', 1754),\n",
       " ('Newark', 1398),\n",
       " ('nan', 25)]"
      ]
     },
     "execution_count": 8,
     "metadata": {},
     "output_type": "execute_result"
    }
   ],
   "source": [
    "count = Counter(data.city)\n",
    "usefulValues = np.array(count.keys())[np.array(count.values()) > 1000]\n",
    "data.city = np.array([x if x in usefulValues else np.nan for x in data.city])\n",
    "nanCounterMostCommon(data.city)"
   ]
  },
  {
   "cell_type": "markdown",
   "metadata": {},
   "source": [
    "### zipcode"
   ]
  },
  {
   "cell_type": "code",
   "execution_count": 9,
   "metadata": {
    "collapsed": false,
    "scrolled": false
   },
   "outputs": [
    {
     "data": {
      "text/plain": [
       "[(95123.0, 2511),\n",
       " (95125.0, 2150),\n",
       " (94536.0, 2129),\n",
       " (94587.0, 1746),\n",
       " (95124.0, 1634),\n",
       " (94538.0, 1615),\n",
       " (95051.0, 1466),\n",
       " (94539.0, 1442),\n",
       " (94560.0, 1398),\n",
       " (95136.0, 1382),\n",
       " (95112.0, 1281),\n",
       " (94087.0, 1267),\n",
       " (95111.0, 1189),\n",
       " (95120.0, 1153),\n",
       " (94555.0, 1130),\n",
       " (95126.0, 1108),\n",
       " (94403.0, 1090),\n",
       " (95118.0, 1083),\n",
       " (95131.0, 1032),\n",
       " (94401.0, 1006),\n",
       " (95132.0, 1004),\n",
       " (94086.0, 974),\n",
       " (95116.0, 953),\n",
       " (95135.0, 927),\n",
       " (95148.0, 926),\n",
       " (94043.0, 923),\n",
       " (95050.0, 920),\n",
       " (95122.0, 878),\n",
       " (95128.0, 878),\n",
       " (94061.0, 855),\n",
       " (95127.0, 823),\n",
       " (95129.0, 807),\n",
       " (95121.0, 806),\n",
       " (95133.0, 747),\n",
       " (95138.0, 746),\n",
       " (95110.0, 736),\n",
       " (94040.0, 698),\n",
       " (94402.0, 633),\n",
       " (95054.0, 607),\n",
       " (95117.0, 580),\n",
       " (94085.0, 571),\n",
       " (94089.0, 518),\n",
       " (94065.0, 458),\n",
       " (94062.0, 423),\n",
       " (95119.0, 363),\n",
       " (94041.0, 335),\n",
       " (95130.0, 310),\n",
       " (95139.0, 273),\n",
       " (94063.0, 250),\n",
       " (95134.0, 197),\n",
       " (94404.0, 181),\n",
       " (95113.0, 127)]"
      ]
     },
     "execution_count": 9,
     "metadata": {},
     "output_type": "execute_result"
    }
   ],
   "source": [
    "data.zipcode = convertInt(data.zipcode)\n",
    "count = Counter(data.zipcode)\n",
    "usefulValues = np.array(count.keys())[np.array(count.values()) > 100]   \n",
    "data.zipcode = [x if x in usefulValues else np.nan for x in data.zipcode]\n",
    "nanCounterMostCommon(data.zipcode)"
   ]
  },
  {
   "cell_type": "markdown",
   "metadata": {},
   "source": [
    "### area"
   ]
  },
  {
   "cell_type": "code",
   "execution_count": 10,
   "metadata": {
    "collapsed": false,
    "scrolled": false
   },
   "outputs": [
    {
     "name": "stderr",
     "output_type": "stream",
     "text": [
      "/Users/qiweili/anaconda/lib/python2.7/site-packages/ipykernel/__main__.py:3: FutureWarning: elementwise comparison failed; returning scalar instead, but in the future will perform elementwise comparison\n",
      "  app.launch_new_instance()\n"
     ]
    },
    {
     "data": {
      "text/plain": [
       "[('Willow Glen', 3304),\n",
       " ('Evergreen', 2511),\n",
       " ('Downtown', 2500),\n",
       " ('Blossom Valley', 2281),\n",
       " ('West San Jose', 2127),\n",
       " ('East San Jose', 2007),\n",
       " ('Santa Teresa', 1986),\n",
       " ('North Valley', 1846),\n",
       " ('Cambrian Park', 1805),\n",
       " ('94587', 1745),\n",
       " ('Almaden Valley', 1577),\n",
       " ('Fairgrounds', 1510),\n",
       " ('95051', 1464),\n",
       " ('94560', 1397),\n",
       " ('Berryessa', 1045),\n",
       " ('95050', 913),\n",
       " ('Alum Rock-East Foothills', 744),\n",
       " ('Edenvale - Seven Trees', 724),\n",
       " ('North San Jose', 621),\n",
       " ('95054', 607),\n",
       " ('Ponderosa', 533),\n",
       " ('Lakewood', 524),\n",
       " ('Ardenwood', 511),\n",
       " ('Northgate', 471),\n",
       " ('Centerville', 466),\n",
       " ('Rose Garden', 458),\n",
       " ('De Anza', 445),\n",
       " ('94043', 436),\n",
       " ('Cherry-Guardino', 420),\n",
       " ('West Murphy', 409),\n",
       " ('Warm Springs', 371),\n",
       " ('94040', 358),\n",
       " ('Glenmoor', 355),\n",
       " ('Ortega', 326),\n",
       " ('Cabrillo', 325),\n",
       " ('Washington', 321),\n",
       " ('East Murphy', 320),\n",
       " ('Serra', 299),\n",
       " ('Central', 293),\n",
       " ('Irvington', 288),\n",
       " ('Niles', 265),\n",
       " ('Grimmer', 252),\n",
       " ('North Central', 237),\n",
       " ('Sundale', 221),\n",
       " ('Mission Valley', 219),\n",
       " ('Blacow', 212),\n",
       " ('Mission San Jose', 204),\n",
       " ('Kimber-Gomes', 193),\n",
       " ('South Sundale', 190),\n",
       " ('Woodside Plaza', 188),\n",
       " ('Steinberger', 177),\n",
       " ('Old Mountain View', 175),\n",
       " ('Brookvale', 166),\n",
       " ('San Mateo Heights', 161),\n",
       " ('South Shoreview', 159),\n",
       " ('Parkmont', 153),\n",
       " ('Baywood', 151),\n",
       " ('Eagle Hill', 148),\n",
       " ('Lakes and Birds', 140),\n",
       " ('Hayward Park', 140),\n",
       " ('Westport', 137),\n",
       " ('Mariners Island', 135),\n",
       " ('Raynor', 134),\n",
       " ('Oakwood', 132),\n",
       " ('Slater', 131),\n",
       " ('Farm Hill', 129),\n",
       " ('San Mateo Village', 129),\n",
       " ('Roosevelt', 127),\n",
       " ('Twenty-Fifth Ave', 126),\n",
       " ('Vineyards-Avalon', 120),\n",
       " ('North Shoreview', 116),\n",
       " ('28 Palms', 114),\n",
       " ('Palm', 113),\n",
       " ('Laurelwood', 111),\n",
       " ('Aragon', 110),\n",
       " ('Weibel', 109),\n",
       " ('Moffett Boulevard', 107),\n",
       " ('Southeast Hillsdale', 106),\n",
       " ('Canyon Heights', 102),\n",
       " ('Cuesta Park', 101),\n",
       " ('San Mateo Park', 99),\n",
       " ('East Industrial', 98),\n",
       " (nan, 97),\n",
       " ('Cameron Hills', 96),\n",
       " ('Fiesta Gardens', 95),\n",
       " ('Parkside', 93),\n",
       " ('Canyon', 93),\n",
       " ('Central Business District', 91),\n",
       " ('Wagon Wheel', 90),\n",
       " ('94041', 83),\n",
       " ('Northeast Hillsdale', 83),\n",
       " ('Greater San Antonio', 77),\n",
       " ('Friendly Acres', 76),\n",
       " ('Arlington', 75),\n",
       " ('Sunnybrae', 75),\n",
       " ('Shoreline West', 69),\n",
       " ('Monta Loma', 67),\n",
       " ('Los Prados', 65),\n",
       " ('Marlin', 65),\n",
       " ('Lauriedale', 64),\n",
       " ('Rex Manor', 57),\n",
       " ('Sequoia', 56),\n",
       " ('Country Club Heights', 53),\n",
       " ('Centennial', 52),\n",
       " ('Marina Park', 50),\n",
       " ('Dolphin', 47),\n",
       " ('Edgewater Isle', 46),\n",
       " ('Bay Meadows', 46),\n",
       " ('Waverly Park', 45),\n",
       " ('East San Mateo', 42),\n",
       " ('Southwest Hillsdale', 41),\n",
       " ('Northwest Hillsdale', 39),\n",
       " ('Middlefield', 39),\n",
       " ('Westshore', 39),\n",
       " ('Foothill Terrace', 39),\n",
       " ('Shearwater', 36),\n",
       " ('North Wishman', 35),\n",
       " ('Baywood Knolls', 34),\n",
       " ('94062', 33),\n",
       " ('95037', 32),\n",
       " ('College Heights', 31),\n",
       " ('Gemello Park', 30),\n",
       " ('Mission Hills', 27),\n",
       " ('Nineteenth Avenue', 27),\n",
       " ('Lido', 24),\n",
       " ('Saint Francis Acres', 24),\n",
       " ('Baywood Park', 23),\n",
       " ('Ampex', 17),\n",
       " ('Sylvan Park', 15),\n",
       " ('Eastern Varsity Park', 13),\n",
       " ('Spring Meadows', 13),\n",
       " ('Martens-Carmelita', 11)]"
      ]
     },
     "execution_count": 10,
     "metadata": {},
     "output_type": "execute_result"
    }
   ],
   "source": [
    "count = Counter(data.area)\n",
    "usefulValues = np.array(count.keys())[np.array(count.values()) > 10] \n",
    "data.area = [x if x in usefulValues else np.nan for x in data.area]\n",
    "nanCounterMostCommon(data.area)"
   ]
  },
  {
   "cell_type": "markdown",
   "metadata": {},
   "source": [
    "### bed"
   ]
  },
  {
   "cell_type": "code",
   "execution_count": 11,
   "metadata": {
    "collapsed": false
   },
   "outputs": [
    {
     "data": {
      "text/plain": [
       "[(3.0, 19677),\n",
       " (4.0, 12343),\n",
       " (2.0, 10798),\n",
       " (5.0, 2731),\n",
       " (1.0, 2199),\n",
       " (6.0, 390)]"
      ]
     },
     "execution_count": 11,
     "metadata": {},
     "output_type": "execute_result"
    }
   ],
   "source": [
    "data.bed = convertInt(data.bed)\n",
    "count = Counter(data.bed)\n",
    "usefulValues = np.array(count.keys())[np.array(count.values()) > 100] \n",
    "data.bed = [x if x in usefulValues else np.nan for x in data.bed]\n",
    "nanCounterMostCommon(data.bed)"
   ]
  },
  {
   "cell_type": "markdown",
   "metadata": {},
   "source": [
    "### bath "
   ]
  },
  {
   "cell_type": "code",
   "execution_count": 12,
   "metadata": {
    "collapsed": false
   },
   "outputs": [
    {
     "name": "stderr",
     "output_type": "stream",
     "text": [
      "/Users/qiweili/anaconda/lib/python2.7/site-packages/ipykernel/__main__.py:2: SettingWithCopyWarning: \n",
      "A value is trying to be set on a copy of a slice from a DataFrame\n",
      "\n",
      "See the caveats in the documentation: http://pandas.pydata.org/pandas-docs/stable/indexing.html#indexing-view-versus-copy\n",
      "  from ipykernel import kernelapp as app\n"
     ]
    },
    {
     "data": {
      "text/plain": [
       "[(2.0, 21892),\n",
       " (3.0, 8882),\n",
       " (1.0, 7532),\n",
       " (2.5, 5374),\n",
       " (1.5, 1509),\n",
       " (4.0, 1439),\n",
       " (3.5, 947),\n",
       " (5.0, 280),\n",
       " (4.5, 168)]"
      ]
     },
     "execution_count": 12,
     "metadata": {},
     "output_type": "execute_result"
    }
   ],
   "source": [
    "data.bath = convertFloat(data.bath)\n",
    "data.bath[(data.bath > 2) & (data.bath < 2.5)] = 2.0\n",
    "count = Counter(data.bath)\n",
    "usefulValues = np.array(count.keys())[np.array(count.values()) > 100] \n",
    "data.bath = [x if x in usefulValues else np.nan for x in data.bath]\n",
    "nanCounterMostCommon(data.bath)"
   ]
  },
  {
   "cell_type": "markdown",
   "metadata": {},
   "source": [
    "### sqft "
   ]
  },
  {
   "cell_type": "code",
   "execution_count": 13,
   "metadata": {
    "collapsed": false
   },
   "outputs": [
    {
     "data": {
      "image/png": "[encoded data removed]",
      "text/plain": [
       "<matplotlib.figure.Figure at 0x10df66490>"
      ]
     },
     "metadata": {},
     "output_type": "display_data"
    }
   ],
   "source": [
    "data.sqft = convertFloat(data.sqft, valueConstraint=[0, 8000])\n",
    "nanDistPlot(data.sqft)"
   ]
  },
  {
   "cell_type": "markdown",
   "metadata": {},
   "source": [
    "### price"
   ]
  },
  {
   "cell_type": "code",
   "execution_count": 14,
   "metadata": {
    "collapsed": false
   },
   "outputs": [
    {
     "data": {
      "image/png": "[encoded data removed]",
      "text/plain": [
       "<matplotlib.figure.Figure at 0x10df66350>"
      ]
     },
     "metadata": {},
     "output_type": "display_data"
    }
   ],
   "source": [
    "data.price = convertFloat(data.price, valueConstraint=PRICE_CONST)\n",
    "nanDistPlot(data.price)"
   ]
  },
  {
   "cell_type": "markdown",
   "metadata": {},
   "source": [
    "### Zestimate "
   ]
  },
  {
   "cell_type": "code",
   "execution_count": 15,
   "metadata": {
    "collapsed": false
   },
   "outputs": [
    {
     "data": {
      "image/png": "[encoded data removed]",
      "text/plain": [
       "<matplotlib.figure.Figure at 0x11088ba90>"
      ]
     },
     "metadata": {},
     "output_type": "display_data"
    }
   ],
   "source": [
    "data.Zestimate = convertFloat(onlyNumber(data.Zestimate), valueConstraint=PRICE_CONST)\n",
    "nanDistPlot(data.Zestimate)"
   ]
  },
  {
   "cell_type": "markdown",
   "metadata": {},
   "source": [
    "### type "
   ]
  },
  {
   "cell_type": "code",
   "execution_count": 16,
   "metadata": {
    "collapsed": false
   },
   "outputs": [
    {
     "name": "stderr",
     "output_type": "stream",
     "text": [
      "/Users/qiweili/anaconda/lib/python2.7/site-packages/ipykernel/__main__.py:3: FutureWarning: elementwise comparison failed; returning scalar instead, but in the future will perform elementwise comparison\n",
      "  app.launch_new_instance()\n"
     ]
    },
    {
     "data": {
      "text/plain": [
       "[('Single Family', 32223),\n",
       " ('Condo', 10862),\n",
       " ('Townhouse', 4327),\n",
       " ('Multi Family', 943),\n",
       " ('nan', 696),\n",
       " ('Mobile / Manufactured', 499)]"
      ]
     },
     "execution_count": 16,
     "metadata": {},
     "output_type": "execute_result"
    }
   ],
   "source": [
    "count = Counter(data.type)\n",
    "usefulValues = np.array(count.keys())[np.array(count.values()) > 300]\n",
    "data.type = np.array([x if x in usefulValues else np.nan for x in data.type])\n",
    "nanCounterMostCommon(data.type)"
   ]
  },
  {
   "cell_type": "markdown",
   "metadata": {},
   "source": [
    "### built"
   ]
  },
  {
   "cell_type": "code",
   "execution_count": 17,
   "metadata": {
    "collapsed": false
   },
   "outputs": [
    {
     "data": {
      "image/png": "[encoded data removed]",
      "text/plain": [
       "<matplotlib.figure.Figure at 0x10efb4090>"
      ]
     },
     "metadata": {},
     "output_type": "display_data"
    }
   ],
   "source": [
    "data.built = convertInt(data.built, valueConstraint=[1850, 2018])\n",
    "nanDistPlot(data.built)"
   ]
  },
  {
   "cell_type": "markdown",
   "metadata": {},
   "source": [
    "### Parking "
   ]
  },
  {
   "cell_type": "code",
   "execution_count": 18,
   "metadata": {
    "collapsed": false
   },
   "outputs": [],
   "source": [
    "data = data.drop('Parking', axis=1)"
   ]
  },
  {
   "cell_type": "markdown",
   "metadata": {},
   "source": [
    "### Lastremodel"
   ]
  },
  {
   "cell_type": "code",
   "execution_count": 19,
   "metadata": {
    "collapsed": false
   },
   "outputs": [
    {
     "data": {
      "image/png": "[encoded data removed]",
      "text/plain": [
       "<matplotlib.figure.Figure at 0x10e0c0750>"
      ]
     },
     "metadata": {},
     "output_type": "display_data"
    }
   ],
   "source": [
    "data.Lastremodel = convertInt(data.Lastremodel, valueConstraint=[1850, 2018])\n",
    "nanDistPlot(data.Lastremodel)"
   ]
  },
  {
   "cell_type": "markdown",
   "metadata": {},
   "source": [
    "### year1 year2 year3 year4 year5"
   ]
  },
  {
   "cell_type": "code",
   "execution_count": 20,
   "metadata": {
    "collapsed": true
   },
   "outputs": [],
   "source": [
    "data.year1 = convertDatetime(data.year1)\n",
    "data.year2 = convertDatetime(data.year2)\n",
    "data.year3 = convertDatetime(data.year3)\n",
    "data.year4 = convertDatetime(data.year4)\n",
    "data.year5 = convertDatetime(data.year5)"
   ]
  },
  {
   "cell_type": "markdown",
   "metadata": {},
   "source": [
    "### price1 price2 price3 price4 price5"
   ]
  },
  {
   "cell_type": "code",
   "execution_count": 21,
   "metadata": {
    "collapsed": true
   },
   "outputs": [],
   "source": [
    "data.price1 = convertFloat(onlyNumber(data.price1), valueConstraint=PRICE_CONST)\n",
    "data.price2 = convertFloat(onlyNumber(data.price2), valueConstraint=PRICE_CONST)\n",
    "data.price3 = convertFloat(onlyNumber(data.price3), valueConstraint=PRICE_CONST)\n",
    "data.price4 = convertFloat(onlyNumber(data.price4), valueConstraint=PRICE_CONST)\n",
    "data.price5 = convertFloat(onlyNumber(data.price5), valueConstraint=PRICE_CONST)"
   ]
  },
  {
   "cell_type": "markdown",
   "metadata": {},
   "source": [
    "### check and save"
   ]
  },
  {
   "cell_type": "code",
   "execution_count": 22,
   "metadata": {
    "collapsed": false
   },
   "outputs": [
    {
     "data": {
      "text/plain": [
       "<matplotlib.axes._subplots.AxesSubplot at 0x1119a8050>"
      ]
     },
     "execution_count": 22,
     "metadata": {},
     "output_type": "execute_result"
    },
    {
     "data": {
      "image/png": "[encoded data removed]",
      "text/plain": [
       "<matplotlib.figure.Figure at 0x1114e1c90>"
      ]
     },
     "metadata": {},
     "output_type": "display_data"
    }
   ],
   "source": [
    "plt.figure(figsize=(5,10))\n",
    "sns.barplot(y=data.isnull().sum().index, x=data.isnull().sum().values*1.0/data.shape[0])"
   ]
  },
  {
   "cell_type": "code",
   "execution_count": 23,
   "metadata": {
    "collapsed": false
   },
   "outputs": [],
   "source": [
    "data.to_csv(\"./data/clean/cleanData.csv\", index=False)"
   ]
  },
  {
   "cell_type": "markdown",
   "metadata": {},
   "source": [
    "# Archive"
   ]
  }
 ],
 "metadata": {
  "kernelspec": {
   "display_name": "Python 2",
   "language": "python",
   "name": "python2"
  },
  "language_info": {
   "codemirror_mode": {
    "name": "ipython",
    "version": 2
   },
   "file_extension": ".py",
   "mimetype": "text/x-python",
   "name": "python",
   "nbconvert_exporter": "python",
   "pygments_lexer": "ipython2",
   "version": "2.7.13"
  }
 },
 "nbformat": 4,
 "nbformat_minor": 2
}
